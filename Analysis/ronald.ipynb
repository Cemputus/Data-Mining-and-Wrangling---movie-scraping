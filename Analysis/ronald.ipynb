{
 "cells": [
  {
   "cell_type": "code",
   "execution_count": 1,
   "metadata": {},
   "outputs": [],
   "source": [
    "import pandas as pd \n",
    "import numpy as np\n",
    "import seaborn as sns\n",
    "import missingno as mns \n",
    "import warnings\n",
    "import matplotlib.pyplot as plt\n",
    "warnings.filterwarnings('ignore')\n",
    "import requests\n",
    "import json\n"
   ]
  },
  {
   "cell_type": "code",
   "execution_count": 2,
   "metadata": {},
   "outputs": [
    {
     "data": {
      "text/plain": [
       "'IMDB_250_movies_cleaned.csv'"
      ]
     },
     "execution_count": 2,
     "metadata": {},
     "output_type": "execute_result"
    }
   ],
   "source": [
    "\n",
    "# Load the JSON file\n",
    "json_file_path = \"IMDB_250_movies.json\"\n",
    "\n",
    "with open(json_file_path, \"r\", encoding=\"utf-8\") as file:\n",
    "    data = json.load(file)\n",
    "\n",
    "# Convert list values to plain values\n",
    "for movie in data:\n",
    "    for key, value in movie.items():\n",
    "        if isinstance(value, list):\n",
    "            if all(isinstance(i, list) for i in value):  # If nested lists exist, flatten them\n",
    "                movie[key] = \", \".join([\", \".join(map(str, sublist)) for sublist in value])\n",
    "            else:\n",
    "                movie[key] = \", \".join(map(str, value))\n",
    "\n",
    "# Convert to DataFrame\n",
    "df = pd.DataFrame(data)\n",
    "\n",
    "# Save as CSV\n",
    "csv_file_path = \"IMDB_250_movies_cleaned.csv\"\n",
    "df.to_csv(csv_file_path, index=False, encoding=\"utf-8\")\n",
    "\n",
    "csv_file_path\n"
   ]
  },
  {
   "cell_type": "code",
   "execution_count": 3,
   "metadata": {},
   "outputs": [
    {
     "data": {
      "text/html": [
       "<div>\n",
       "<style scoped>\n",
       "    .dataframe tbody tr th:only-of-type {\n",
       "        vertical-align: middle;\n",
       "    }\n",
       "\n",
       "    .dataframe tbody tr th {\n",
       "        vertical-align: top;\n",
       "    }\n",
       "\n",
       "    .dataframe thead th {\n",
       "        text-align: right;\n",
       "    }\n",
       "</style>\n",
       "<table border=\"1\" class=\"dataframe\">\n",
       "  <thead>\n",
       "    <tr style=\"text-align: right;\">\n",
       "      <th></th>\n",
       "      <th>title</th>\n",
       "      <th>movie_rank</th>\n",
       "      <th>genres</th>\n",
       "      <th>release_day</th>\n",
       "      <th>release_month</th>\n",
       "      <th>release_year</th>\n",
       "      <th>movie_length</th>\n",
       "      <th>rating</th>\n",
       "      <th>vote_count</th>\n",
       "      <th>description</th>\n",
       "    </tr>\n",
       "  </thead>\n",
       "  <tbody>\n",
       "    <tr>\n",
       "      <th>0</th>\n",
       "      <td>The Shawshank Redemption</td>\n",
       "      <td>1</td>\n",
       "      <td>Drama</td>\n",
       "      <td>14</td>\n",
       "      <td>10</td>\n",
       "      <td>1994</td>\n",
       "      <td>2:22:00</td>\n",
       "      <td>9.3</td>\n",
       "      <td>3020598</td>\n",
       "      <td>A banker convicted of uxoricide forms a friend...</td>\n",
       "    </tr>\n",
       "    <tr>\n",
       "      <th>1</th>\n",
       "      <td>The Godfather</td>\n",
       "      <td>2</td>\n",
       "      <td>Crime, Drama</td>\n",
       "      <td>24</td>\n",
       "      <td>3</td>\n",
       "      <td>1972</td>\n",
       "      <td>2:55:00</td>\n",
       "      <td>9.2</td>\n",
       "      <td>2108019</td>\n",
       "      <td>The aging patriarch of an organized crime dyna...</td>\n",
       "    </tr>\n",
       "    <tr>\n",
       "      <th>2</th>\n",
       "      <td>The Dark Knight</td>\n",
       "      <td>3</td>\n",
       "      <td>Action, Crime, Drama</td>\n",
       "      <td>18</td>\n",
       "      <td>7</td>\n",
       "      <td>2008</td>\n",
       "      <td>2:32:00</td>\n",
       "      <td>9.0</td>\n",
       "      <td>2996913</td>\n",
       "      <td>When a menace known as the Joker wreaks havoc ...</td>\n",
       "    </tr>\n",
       "    <tr>\n",
       "      <th>3</th>\n",
       "      <td>The Godfather Part II</td>\n",
       "      <td>4</td>\n",
       "      <td>Crime, Drama</td>\n",
       "      <td>18</td>\n",
       "      <td>12</td>\n",
       "      <td>1974</td>\n",
       "      <td>3:22:00</td>\n",
       "      <td>9.0</td>\n",
       "      <td>1419714</td>\n",
       "      <td>The early life and career of Vito Corleone in ...</td>\n",
       "    </tr>\n",
       "    <tr>\n",
       "      <th>4</th>\n",
       "      <td>12 Angry Men</td>\n",
       "      <td>5</td>\n",
       "      <td>Crime, Drama</td>\n",
       "      <td>10</td>\n",
       "      <td>4</td>\n",
       "      <td>1957</td>\n",
       "      <td>1:36:00</td>\n",
       "      <td>9.0</td>\n",
       "      <td>916939</td>\n",
       "      <td>The jury in a New York City murder trial is fr...</td>\n",
       "    </tr>\n",
       "    <tr>\n",
       "      <th>5</th>\n",
       "      <td>The Lord of the Rings: The Return of the King</td>\n",
       "      <td>6</td>\n",
       "      <td>Adventure, Drama, Fantasy</td>\n",
       "      <td>17</td>\n",
       "      <td>12</td>\n",
       "      <td>2003</td>\n",
       "      <td>3:21:00</td>\n",
       "      <td>9.0</td>\n",
       "      <td>2063799</td>\n",
       "      <td>Gandalf and Aragorn lead the World of Men agai...</td>\n",
       "    </tr>\n",
       "  </tbody>\n",
       "</table>\n",
       "</div>"
      ],
      "text/plain": [
       "                                           title  movie_rank  \\\n",
       "0                       The Shawshank Redemption           1   \n",
       "1                                  The Godfather           2   \n",
       "2                                The Dark Knight           3   \n",
       "3                          The Godfather Part II           4   \n",
       "4                                   12 Angry Men           5   \n",
       "5  The Lord of the Rings: The Return of the King           6   \n",
       "\n",
       "                      genres  release_day  release_month  release_year  \\\n",
       "0                      Drama           14             10          1994   \n",
       "1               Crime, Drama           24              3          1972   \n",
       "2       Action, Crime, Drama           18              7          2008   \n",
       "3               Crime, Drama           18             12          1974   \n",
       "4               Crime, Drama           10              4          1957   \n",
       "5  Adventure, Drama, Fantasy           17             12          2003   \n",
       "\n",
       "  movie_length  rating  vote_count  \\\n",
       "0      2:22:00     9.3     3020598   \n",
       "1      2:55:00     9.2     2108019   \n",
       "2      2:32:00     9.0     2996913   \n",
       "3      3:22:00     9.0     1419714   \n",
       "4      1:36:00     9.0      916939   \n",
       "5      3:21:00     9.0     2063799   \n",
       "\n",
       "                                         description  \n",
       "0  A banker convicted of uxoricide forms a friend...  \n",
       "1  The aging patriarch of an organized crime dyna...  \n",
       "2  When a menace known as the Joker wreaks havoc ...  \n",
       "3  The early life and career of Vito Corleone in ...  \n",
       "4  The jury in a New York City murder trial is fr...  \n",
       "5  Gandalf and Aragorn lead the World of Men agai...  "
      ]
     },
     "execution_count": 3,
     "metadata": {},
     "output_type": "execute_result"
    }
   ],
   "source": [
    "## reading the csv dataset \n",
    "df = pd.read_csv(\"IMDB_250_movies_cleaned.csv\")\n",
    "df.head(6)"
   ]
  },
  {
   "cell_type": "code",
   "execution_count": 4,
   "metadata": {},
   "outputs": [
    {
     "name": "stdout",
     "output_type": "stream",
     "text": [
      "<class 'pandas.core.frame.DataFrame'>\n",
      "RangeIndex: 250 entries, 0 to 249\n",
      "Data columns (total 10 columns):\n",
      " #   Column         Non-Null Count  Dtype  \n",
      "---  ------         --------------  -----  \n",
      " 0   title          250 non-null    object \n",
      " 1   movie_rank     250 non-null    int64  \n",
      " 2   genres         250 non-null    object \n",
      " 3   release_day    250 non-null    int64  \n",
      " 4   release_month  250 non-null    int64  \n",
      " 5   release_year   250 non-null    int64  \n",
      " 6   movie_length   250 non-null    object \n",
      " 7   rating         250 non-null    float64\n",
      " 8   vote_count     250 non-null    int64  \n",
      " 9   description    250 non-null    object \n",
      "dtypes: float64(1), int64(5), object(4)\n",
      "memory usage: 19.7+ KB\n"
     ]
    }
   ],
   "source": [
    "## checking the shape of the dataset for information\n",
    "df.info()"
   ]
  },
  {
   "cell_type": "markdown",
   "metadata": {},
   "source": [
    "### Now we can use the OMDB API to get the other attributes of the dataset i.e. Main Actors, Budget, Box Office Gross, and Awards"
   ]
  },
  {
   "cell_type": "code",
   "execution_count": 5,
   "metadata": {},
   "outputs": [
    {
     "name": "stdout",
     "output_type": "stream",
     "text": [
      "✅ Updated CSV saved at: Final_IMDB_250_movies_with_OMDB.csv\n"
     ]
    }
   ],
   "source": [
    "# OMDb API Key\n",
    "OMDB_API_KEY = \"60fded84\"\n",
    "\n",
    "# Function to fetch movie details from OMDb API\n",
    "def fetch_movie_details(title):\n",
    "    url = f\"http://www.omdbapi.com/?t={title}&apikey={OMDB_API_KEY}\"\n",
    "    response = requests.get(url)\n",
    "    \n",
    "    if response.status_code == 200:\n",
    "        data = response.json()\n",
    "        \n",
    "        # Check if the response is valid\n",
    "        if data.get(\"Response\") == \"True\":\n",
    "            return {\n",
    "                \"title\": data.get(\"Title\", title),  # Ensure title matches\n",
    "                \"Cast (Main Actors)\": data.get(\"Actors\", \"N/A\"),\n",
    "                \"Budget\": \"N/A\",  # OMDb does not provide budget info\n",
    "                \"Box Office Gross\": data.get(\"BoxOffice\", \"N/A\"),\n",
    "                \"Awards\": data.get(\"Awards\", \"N/A\")\n",
    "            }\n",
    "    \n",
    "    # If no valid response, return empty data\n",
    "    return {\n",
    "        \"title\": title,\n",
    "        \"Cast (Main Actors)\": \"N/A\",\n",
    "        \"Budget\": \"N/A\",\n",
    "        \"Box Office Gross\": \"N/A\",\n",
    "        \"Awards\": \"N/A\"\n",
    "    }\n",
    "\n",
    "# Load your existing CSV file\n",
    "existing_csv = \"IMDB_250_movies_cleaned.csv\"\n",
    "df = pd.read_csv(existing_csv)\n",
    "\n",
    "# Fetch details for each movie\n",
    "additional_data = [fetch_movie_details(title) for title in df[\"title\"]]\n",
    "\n",
    "# Convert the fetched data into a DataFrame\n",
    "extra_df = pd.DataFrame(additional_data)\n",
    "\n",
    "# Merge with the existing DataFrame\n",
    "df = df.merge(extra_df, on=\"title\", how=\"left\")\n",
    "\n",
    "# Save updated data\n",
    "new_df_path = \"Final_IMDB_250_movies_with_OMDB.csv\"\n",
    "df.to_csv(new_df_path, index=False, encoding=\"utf-8\")\n",
    "\n",
    "print(f\"✅ Updated CSV saved at: {new_df_path}\")\n"
   ]
  },
  {
   "cell_type": "markdown",
   "metadata": {},
   "source": [
    "## **Cleaning Data** #####"
   ]
  },
  {
   "cell_type": "code",
   "execution_count": 6,
   "metadata": {},
   "outputs": [
    {
     "data": {
      "text/plain": [
       "Index(['title', 'movie_rank', 'genres', 'release_day', 'release_month',\n",
       "       'release_year', 'movie_length', 'rating', 'vote_count', 'description',\n",
       "       'Cast (Main Actors)', 'Budget', 'Box Office Gross', 'Awards'],\n",
       "      dtype='object')"
      ]
     },
     "execution_count": 6,
     "metadata": {},
     "output_type": "execute_result"
    }
   ],
   "source": [
    "df1 = pd.read_csv(\"Final_IMDB_250_movies_with_OMDB.csv\")\n",
    "\n",
    "df1.columns\n"
   ]
  },
  {
   "cell_type": "code",
   "execution_count": 7,
   "metadata": {},
   "outputs": [
    {
     "data": {
      "text/plain": [
       "<Axes: >"
      ]
     },
     "execution_count": 7,
     "metadata": {},
     "output_type": "execute_result"
    },
    {
     "data": {
      "image/png": "[encoded data removed]",
      "text/plain": [
       "<Figure size 2500x1000 with 3 Axes>"
      ]
     },
     "metadata": {},
     "output_type": "display_data"
    }
   ],
   "source": [
    "#### checking for missing values in the Box Office column\n",
    "mns.bar(df1)"
   ]
  },
  {
   "cell_type": "code",
   "execution_count": 8,
   "metadata": {},
   "outputs": [
    {
     "data": {
      "text/plain": [
       "title                   0\n",
       "movie_rank              0\n",
       "genres                  0\n",
       "release_day             0\n",
       "release_month           0\n",
       "release_year            0\n",
       "movie_length            0\n",
       "rating                  0\n",
       "vote_count              0\n",
       "description             0\n",
       "Cast (Main Actors)      1\n",
       "Budget                250\n",
       "Box Office Gross       29\n",
       "Awards                  1\n",
       "dtype: int64"
      ]
     },
     "execution_count": 8,
     "metadata": {},
     "output_type": "execute_result"
    }
   ],
   "source": [
    "#### checking for missing values in the Box Office column\n",
    "missing_values = df1.isnull().sum()\n",
    "\n",
    "missing_values"
   ]
  },
  {
   "cell_type": "code",
   "execution_count": 12,
   "metadata": {},
   "outputs": [
    {
     "data": {
      "text/plain": [
       "Index(['title', 'movie_rank', 'genres', 'release_day', 'release_month',\n",
       "       'release_year', 'movie_length', 'rating', 'vote_count', 'description',\n",
       "       'Cast (Main Actors)', 'Box Office Gross', 'Awards'],\n",
       "      dtype='object')"
      ]
     },
     "execution_count": 12,
     "metadata": {},
     "output_type": "execute_result"
    }
   ],
   "source": [
    "### Dropping the Budget column\n",
    "#The Budget column is not necessary for the analysis since it is only missing values, so we can drop it from the data frame.\n",
    "\n",
    "df2 = df1.drop(columns=[\"Budget\"])\n",
    "\n",
    "df2.columns\n"
   ]
  },
  {
   "cell_type": "code",
   "execution_count": 13,
   "metadata": {},
   "outputs": [
    {
     "data": {
      "text/plain": [
       "title                  0\n",
       "movie_rank             0\n",
       "genres                 0\n",
       "release_day            0\n",
       "release_month          0\n",
       "release_year           0\n",
       "movie_length           0\n",
       "rating                 0\n",
       "vote_count             0\n",
       "description            0\n",
       "Cast (Main Actors)     1\n",
       "Box Office Gross      29\n",
       "Awards                 1\n",
       "dtype: int64"
      ]
     },
     "execution_count": 13,
     "metadata": {},
     "output_type": "execute_result"
    }
   ],
   "source": [
    "## checking the missing values in the dataset\n",
    "\n",
    "df2.isnull().sum()"
   ]
  },
  {
   "cell_type": "code",
   "execution_count": 14,
   "metadata": {},
   "outputs": [],
   "source": [
    "### Dropping the missing values\n",
    "#Since the missing values are few, we can drop them from the dataset.\n",
    "df3 = df2.dropna()\n",
    "\n"
   ]
  },
  {
   "cell_type": "code",
   "execution_count": 15,
   "metadata": {},
   "outputs": [
    {
     "data": {
      "text/html": [
       "<div>\n",
       "<style scoped>\n",
       "    .dataframe tbody tr th:only-of-type {\n",
       "        vertical-align: middle;\n",
       "    }\n",
       "\n",
       "    .dataframe tbody tr th {\n",
       "        vertical-align: top;\n",
       "    }\n",
       "\n",
       "    .dataframe thead th {\n",
       "        text-align: right;\n",
       "    }\n",
       "</style>\n",
       "<table border=\"1\" class=\"dataframe\">\n",
       "  <thead>\n",
       "    <tr style=\"text-align: right;\">\n",
       "      <th></th>\n",
       "      <th>title</th>\n",
       "      <th>movie_rank</th>\n",
       "      <th>genres</th>\n",
       "      <th>release_day</th>\n",
       "      <th>release_month</th>\n",
       "      <th>release_year</th>\n",
       "      <th>movie_length</th>\n",
       "      <th>rating</th>\n",
       "      <th>vote_count</th>\n",
       "      <th>description</th>\n",
       "      <th>Cast (Main Actors)</th>\n",
       "      <th>Box Office Gross</th>\n",
       "      <th>Awards</th>\n",
       "    </tr>\n",
       "  </thead>\n",
       "  <tbody>\n",
       "    <tr>\n",
       "      <th>0</th>\n",
       "      <td>The Shawshank Redemption</td>\n",
       "      <td>1</td>\n",
       "      <td>Drama</td>\n",
       "      <td>14</td>\n",
       "      <td>10</td>\n",
       "      <td>1994</td>\n",
       "      <td>2:22:00</td>\n",
       "      <td>9.3</td>\n",
       "      <td>3020598</td>\n",
       "      <td>A banker convicted of uxoricide forms a friend...</td>\n",
       "      <td>Tim Robbins, Morgan Freeman, Bob Gunton</td>\n",
       "      <td>$28,767,189</td>\n",
       "      <td>Nominated for 7 Oscars. 21 wins &amp; 42 nominatio...</td>\n",
       "    </tr>\n",
       "    <tr>\n",
       "      <th>1</th>\n",
       "      <td>The Godfather</td>\n",
       "      <td>2</td>\n",
       "      <td>Crime, Drama</td>\n",
       "      <td>24</td>\n",
       "      <td>3</td>\n",
       "      <td>1972</td>\n",
       "      <td>2:55:00</td>\n",
       "      <td>9.2</td>\n",
       "      <td>2108019</td>\n",
       "      <td>The aging patriarch of an organized crime dyna...</td>\n",
       "      <td>Marlon Brando, Al Pacino, James Caan</td>\n",
       "      <td>$136,381,073</td>\n",
       "      <td>Won 3 Oscars. 31 wins &amp; 31 nominations total</td>\n",
       "    </tr>\n",
       "    <tr>\n",
       "      <th>2</th>\n",
       "      <td>The Dark Knight</td>\n",
       "      <td>3</td>\n",
       "      <td>Action, Crime, Drama</td>\n",
       "      <td>18</td>\n",
       "      <td>7</td>\n",
       "      <td>2008</td>\n",
       "      <td>2:32:00</td>\n",
       "      <td>9.0</td>\n",
       "      <td>2996913</td>\n",
       "      <td>When a menace known as the Joker wreaks havoc ...</td>\n",
       "      <td>Christian Bale, Heath Ledger, Aaron Eckhart</td>\n",
       "      <td>$534,987,076</td>\n",
       "      <td>Won 2 Oscars. 164 wins &amp; 165 nominations total</td>\n",
       "    </tr>\n",
       "    <tr>\n",
       "      <th>3</th>\n",
       "      <td>The Godfather Part II</td>\n",
       "      <td>4</td>\n",
       "      <td>Crime, Drama</td>\n",
       "      <td>18</td>\n",
       "      <td>12</td>\n",
       "      <td>1974</td>\n",
       "      <td>3:22:00</td>\n",
       "      <td>9.0</td>\n",
       "      <td>1419714</td>\n",
       "      <td>The early life and career of Vito Corleone in ...</td>\n",
       "      <td>Al Pacino, Robert De Niro, Robert Duvall</td>\n",
       "      <td>$47,834,595</td>\n",
       "      <td>Won 6 Oscars. 17 wins &amp; 21 nominations total</td>\n",
       "    </tr>\n",
       "    <tr>\n",
       "      <th>5</th>\n",
       "      <td>The Lord of the Rings: The Return of the King</td>\n",
       "      <td>6</td>\n",
       "      <td>Adventure, Drama, Fantasy</td>\n",
       "      <td>17</td>\n",
       "      <td>12</td>\n",
       "      <td>2003</td>\n",
       "      <td>3:21:00</td>\n",
       "      <td>9.0</td>\n",
       "      <td>2063799</td>\n",
       "      <td>Gandalf and Aragorn lead the World of Men agai...</td>\n",
       "      <td>Elijah Wood, Viggo Mortensen, Ian McKellen</td>\n",
       "      <td>$381,878,219</td>\n",
       "      <td>Won 11 Oscars. 215 wins &amp; 124 nominations total</td>\n",
       "    </tr>\n",
       "    <tr>\n",
       "      <th>6</th>\n",
       "      <td>Schindler's List</td>\n",
       "      <td>7</td>\n",
       "      <td>Biography, Drama, History</td>\n",
       "      <td>4</td>\n",
       "      <td>2</td>\n",
       "      <td>1993</td>\n",
       "      <td>3:15:00</td>\n",
       "      <td>9.0</td>\n",
       "      <td>1512153</td>\n",
       "      <td>In German-occupied Poland during World War II,...</td>\n",
       "      <td>Liam Neeson, Ralph Fiennes, Ben Kingsley</td>\n",
       "      <td>$96,898,818</td>\n",
       "      <td>Won 7 Oscars. 91 wins &amp; 49 nominations total</td>\n",
       "    </tr>\n",
       "    <tr>\n",
       "      <th>7</th>\n",
       "      <td>Pulp Fiction</td>\n",
       "      <td>8</td>\n",
       "      <td>Crime, Drama</td>\n",
       "      <td>14</td>\n",
       "      <td>10</td>\n",
       "      <td>1994</td>\n",
       "      <td>2:34:00</td>\n",
       "      <td>8.9</td>\n",
       "      <td>2317747</td>\n",
       "      <td>The lives of two mob hitmen, a boxer, a gangst...</td>\n",
       "      <td>John Travolta, Uma Thurman, Samuel L. Jackson</td>\n",
       "      <td>$107,928,762</td>\n",
       "      <td>Won 1 Oscar. 69 wins &amp; 72 nominations total</td>\n",
       "    </tr>\n",
       "    <tr>\n",
       "      <th>8</th>\n",
       "      <td>The Lord of the Rings: The Fellowship of the Ring</td>\n",
       "      <td>9</td>\n",
       "      <td>Adventure, Drama, Fantasy</td>\n",
       "      <td>19</td>\n",
       "      <td>12</td>\n",
       "      <td>2001</td>\n",
       "      <td>2:58:00</td>\n",
       "      <td>8.9</td>\n",
       "      <td>2092797</td>\n",
       "      <td>A meek Hobbit from the Shire and eight compani...</td>\n",
       "      <td>Elijah Wood, Ian McKellen, Orlando Bloom</td>\n",
       "      <td>$319,372,078</td>\n",
       "      <td>Won 4 Oscars. 125 wins &amp; 126 nominations total</td>\n",
       "    </tr>\n",
       "  </tbody>\n",
       "</table>\n",
       "</div>"
      ],
      "text/plain": [
       "                                               title  movie_rank  \\\n",
       "0                           The Shawshank Redemption           1   \n",
       "1                                      The Godfather           2   \n",
       "2                                    The Dark Knight           3   \n",
       "3                              The Godfather Part II           4   \n",
       "5      The Lord of the Rings: The Return of the King           6   \n",
       "6                                   Schindler's List           7   \n",
       "7                                       Pulp Fiction           8   \n",
       "8  The Lord of the Rings: The Fellowship of the Ring           9   \n",
       "\n",
       "                      genres  release_day  release_month  release_year  \\\n",
       "0                      Drama           14             10          1994   \n",
       "1               Crime, Drama           24              3          1972   \n",
       "2       Action, Crime, Drama           18              7          2008   \n",
       "3               Crime, Drama           18             12          1974   \n",
       "5  Adventure, Drama, Fantasy           17             12          2003   \n",
       "6  Biography, Drama, History            4              2          1993   \n",
       "7               Crime, Drama           14             10          1994   \n",
       "8  Adventure, Drama, Fantasy           19             12          2001   \n",
       "\n",
       "  movie_length  rating  vote_count  \\\n",
       "0      2:22:00     9.3     3020598   \n",
       "1      2:55:00     9.2     2108019   \n",
       "2      2:32:00     9.0     2996913   \n",
       "3      3:22:00     9.0     1419714   \n",
       "5      3:21:00     9.0     2063799   \n",
       "6      3:15:00     9.0     1512153   \n",
       "7      2:34:00     8.9     2317747   \n",
       "8      2:58:00     8.9     2092797   \n",
       "\n",
       "                                         description  \\\n",
       "0  A banker convicted of uxoricide forms a friend...   \n",
       "1  The aging patriarch of an organized crime dyna...   \n",
       "2  When a menace known as the Joker wreaks havoc ...   \n",
       "3  The early life and career of Vito Corleone in ...   \n",
       "5  Gandalf and Aragorn lead the World of Men agai...   \n",
       "6  In German-occupied Poland during World War II,...   \n",
       "7  The lives of two mob hitmen, a boxer, a gangst...   \n",
       "8  A meek Hobbit from the Shire and eight compani...   \n",
       "\n",
       "                              Cast (Main Actors) Box Office Gross  \\\n",
       "0        Tim Robbins, Morgan Freeman, Bob Gunton      $28,767,189   \n",
       "1           Marlon Brando, Al Pacino, James Caan     $136,381,073   \n",
       "2    Christian Bale, Heath Ledger, Aaron Eckhart     $534,987,076   \n",
       "3       Al Pacino, Robert De Niro, Robert Duvall      $47,834,595   \n",
       "5     Elijah Wood, Viggo Mortensen, Ian McKellen     $381,878,219   \n",
       "6       Liam Neeson, Ralph Fiennes, Ben Kingsley      $96,898,818   \n",
       "7  John Travolta, Uma Thurman, Samuel L. Jackson     $107,928,762   \n",
       "8       Elijah Wood, Ian McKellen, Orlando Bloom     $319,372,078   \n",
       "\n",
       "                                              Awards  \n",
       "0  Nominated for 7 Oscars. 21 wins & 42 nominatio...  \n",
       "1       Won 3 Oscars. 31 wins & 31 nominations total  \n",
       "2     Won 2 Oscars. 164 wins & 165 nominations total  \n",
       "3       Won 6 Oscars. 17 wins & 21 nominations total  \n",
       "5    Won 11 Oscars. 215 wins & 124 nominations total  \n",
       "6       Won 7 Oscars. 91 wins & 49 nominations total  \n",
       "7        Won 1 Oscar. 69 wins & 72 nominations total  \n",
       "8     Won 4 Oscars. 125 wins & 126 nominations total  "
      ]
     },
     "execution_count": 15,
     "metadata": {},
     "output_type": "execute_result"
    }
   ],
   "source": [
    "df3.head(8)"
   ]
  },
  {
   "cell_type": "code",
   "execution_count": 16,
   "metadata": {},
   "outputs": [
    {
     "data": {
      "text/plain": [
       "title                 0\n",
       "movie_rank            0\n",
       "genres                0\n",
       "release_day           0\n",
       "release_month         0\n",
       "release_year          0\n",
       "movie_length          0\n",
       "rating                0\n",
       "vote_count            0\n",
       "description           0\n",
       "Cast (Main Actors)    0\n",
       "Box Office Gross      0\n",
       "Awards                0\n",
       "dtype: int64"
      ]
     },
     "execution_count": 16,
     "metadata": {},
     "output_type": "execute_result"
    }
   ],
   "source": [
    "# checking the missing values in the dataset\n",
    "df3.isna().sum()\n"
   ]
  },
  {
   "cell_type": "code",
   "execution_count": 17,
   "metadata": {},
   "outputs": [],
   "source": [
    "# saving df3 to a new file\n",
    "df3.to_csv(\"IMDB_250_movies_cleaned2.csv\", index=False)\n",
    "\n",
    "Cleaned_df = pd.read_csv(\"IMDB_250_movies_cleaned2.csv\")"
   ]
  }
 ],
 "metadata": {
  "kernelspec": {
   "display_name": "Python 3",
   "language": "python",
   "name": "python3"
  },
  "language_info": {
   "codemirror_mode": {
    "name": "ipython",
    "version": 3
   },
   "file_extension": ".py",
   "mimetype": "text/x-python",
   "name": "python",
   "nbconvert_exporter": "python",
   "pygments_lexer": "ipython3",
   "version": "3.11.9"
  }
 },
 "nbformat": 4,
 "nbformat_minor": 2
}
